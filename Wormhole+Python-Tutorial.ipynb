{
 "cells": [
  {
   "cell_type": "markdown",
   "metadata": {},
   "source": [
    "# Wormhole + Python - Make your ICO in BCH using Python.\n",
    "\n",
    "Tutorial by Mau Hernandes (https://twitter.com/mauhcs)\n",
    "\n",
    "Last edited in 2018/08/22."
   ]
  },
  {
   "cell_type": "code",
   "execution_count": 1,
   "metadata": {
    "collapsed": true
   },
   "outputs": [],
   "source": [
    "import time\n",
    "import json\n",
    "import datetime\n",
    "from requests import post\n",
    "from collections import defaultdict\n",
    "from multiprocessing import Process\n",
    "from IPython.display import clear_output\n",
    "\n",
    "from cashaddress.convert import to_legacy_address\n",
    "# If you don't have cashaddress, simple run 'pip install cashaddress' "
   ]
  },
  {
   "cell_type": "markdown",
   "metadata": {},
   "source": [
    "# Table of Contens\n",
    "\n",
    "## 0. Config\n",
    "\n",
    "## 1. Setup\n",
    "\n",
    "## 2. Getting Wormhole cash (WHC)\n",
    "\n",
    "## 3. Getting Addresses Balance\n",
    "\n",
    "## 4. Issuing Tokens\n",
    "\n",
    "### 4.1 Fixed Amount \n",
    "### 4.2 Managed Amount\n",
    "### 4.3 Crowd Sale (ICO)\n",
    "\n",
    "# 5. What is next?\n",
    "\n",
    "______"
   ]
  },
  {
   "cell_type": "markdown",
   "metadata": {},
   "source": [
    "# 0. Config\n",
    "### Set your node rpc endppoint and user:password"
   ]
  },
  {
   "cell_type": "code",
   "execution_count": 2,
   "metadata": {
    "collapsed": true
   },
   "outputs": [],
   "source": [
    "RPC_BASEURL=\"http://178.128.221.48:18332\" \n",
    "RPC_PASSWORD=\"h4x0r\" \n",
    "RPC_USERNAME=\"l33t\" "
   ]
  },
  {
   "cell_type": "markdown",
   "metadata": {},
   "source": [
    "## Utility Functions"
   ]
  },
  {
   "cell_type": "markdown",
   "metadata": {},
   "source": [
    "### Bch and Generic functions"
   ]
  },
  {
   "cell_type": "code",
   "execution_count": 3,
   "metadata": {
    "collapsed": true
   },
   "outputs": [],
   "source": [
    "def rpc_call(method, params=[], force_str=True):\n",
    "    \"\"\" Call rpc client method in the remote node.\n",
    "    List of rpc calls: https://en.bitcoin.it/wiki/Original_Bitcoin_client/API_calls_list\n",
    "    \"\"\"\n",
    "    assert isinstance(params,list), \"Parameters MUST be list\"\n",
    "    if force_str:\n",
    "        _params = [str(p) for p in params]\n",
    "    else:\n",
    "        _params = params\n",
    "    headers = {'content-type': 'text/plain'}\n",
    "    data = f'{{\"jsonrpc\": \"1.0\",\"id\":\"{method}\" , \"method\": \"{method}\", \"params\": {json.dumps(_params)} }}'\n",
    "    response = post(RPC_BASEURL, \n",
    "                    headers=headers, \n",
    "                    data=data,\n",
    "                    auth=(RPC_USERNAME, RPC_PASSWORD))\n",
    "    \n",
    "    ret = response.json()[\"result\"]\n",
    "    \n",
    "    if isinstance(ret, str) and len(ret) == 64:\n",
    "        # Probably a TX.\n",
    "        return f\"https://www.blocktrail.com/tBCC/tx/{ret}\"\n",
    "    else:\n",
    "        return ret\n",
    "\n",
    "\n",
    "def get_bch_balances():\n",
    "    \"\"\" Return dict {cashAddress : bch_balance}\n",
    "    \"\"\"\n",
    "    bals = defaultdict(lambda : 0)\n",
    "    \n",
    "    txos = rpc_call(\"listunspent\")\n",
    "    for txo in txos:\n",
    "        bals[txo[\"address\"]] = round(bals[txo[\"address\"]] + txo[\"amount\"],8)\n",
    "    return bals\n",
    "\n",
    "def get_bch_balance(account):\n",
    "    bal = rpc_call(\"getbalance\", [account])\n",
    "    return bal\n",
    "\n",
    "def to_unixtime(year, month, day, hour, minute):\n",
    "    dt = datetime.datetime(year, month, day, hour, minute)\n",
    "    return int(time.mktime(dt.timetuple()))\n"
   ]
  },
  {
   "cell_type": "markdown",
   "metadata": {},
   "source": [
    "### Token Related Functions"
   ]
  },
  {
   "cell_type": "code",
   "execution_count": 4,
   "metadata": {
    "collapsed": true
   },
   "outputs": [],
   "source": [
    "def get_token_id(token, return_one=True):\n",
    "    \"\"\"\n",
    "        Given the name of a Token, returns its ID in Wormhole Network.\n",
    "        token: String with the name of the token.\n",
    "        return_one == False return the list of ids matching the name (list).\n",
    "        return_one == True checks if tehre is only on ID matching the name. If yes, return the id (int).\n",
    "    \"\"\"\n",
    "    _tokens = get_token_names()\n",
    "    ixs = []\n",
    "    for ix, name in _tokens.items():\n",
    "        if token == name:\n",
    "            ixs.append(ix)\n",
    "    if len(ixs) == 1 and return_one:\n",
    "        return ixs[0]\n",
    "    elif len(ixs) == 0:\n",
    "        raise TypeError(\"Unknown Token Name, make sure it was issued\")\n",
    "    elif len(ixs) > 1 and return_one:\n",
    "        raise TypeError(f\"There are multiple Tokens with same name. Ids: {ixs} \\n\" \n",
    "                        \"           To avoid this error and return the list of all ids call: \\n\" \n",
    "                        f\"           {get_token_id.__name__}({token}, return_one=False)\")\n",
    "    else:\n",
    "        return ixs"
   ]
  },
  {
   "cell_type": "markdown",
   "metadata": {},
   "source": [
    "# 1. Setup"
   ]
  },
  {
   "cell_type": "markdown",
   "metadata": {},
   "source": [
    "## Create 3 Addresses to be used in the tutorial"
   ]
  },
  {
   "cell_type": "code",
   "execution_count": 6,
   "metadata": {},
   "outputs": [
    {
     "name": "stdout",
     "output_type": "stream",
     "text": [
      "Account Name: 0 cashAddress bchtest:qrda8deqt6e0kcrdx2tzvtx0denn0wupvse9t48a8e\n",
      "Account Name: 1 cashAddress bchtest:qqh7slg0wkk6kt8sftjpt26x7d5sn3v7kqrk3apk3y\n",
      "Account Name: 2 cashAddress bchtest:qq9zf0cy3k8dpt4x22ydhhwuq8u0hyq9hcx9zyhm03\n"
     ]
    }
   ],
   "source": [
    "cashAddresses = {}\n",
    "for i in range(3):\n",
    "    addr = rpc_call(\"getaccountaddress\", [str(i)])\n",
    "    cashAddresses[i] = addr\n",
    "    print(\"Account Name:\",i , \"cashAddress\",addr)"
   ]
  },
  {
   "cell_type": "markdown",
   "metadata": {},
   "source": [
    "## Getting tBCHs in your addresses:\n",
    "\n",
    "### Get a wallet: \n",
    "\n",
    "Create a wallet in testnet in this link:\n",
    "\n",
    "https://ccoin.cash/#wallet\n",
    "\n",
    "1. Click in settings and change the wallet to testnet.\n",
    "2. Click in Wallet, enter an email address and a password to create an wallet (Note that the email and password is used only as deterministic noise to generate the wallet uniquely)\n",
    "3. Copy the (legacy) address under the QRcode shwon in the wallet tab.\n",
    "\n",
    "\n",
    "### Get tBCH:\n",
    "\n",
    "Go to this link:\n",
    "https://testnet.manu.backend.hamburg/bitcoin-cash-faucet\n",
    "\n",
    "There, paste the (legacy) address to the input field. Fill the Recaptcha and enjoy your tBCH."
   ]
  },
  {
   "cell_type": "markdown",
   "metadata": {},
   "source": [
    "### Send Enough to run this tutorial to the new addresses:\n",
    "\n",
    "Back to the wallet (https://ccoin.cash/#wallet), send tBCHs to your new generated addresses. Since this wallet understands only legacy addresses run the next cell:"
   ]
  },
  {
   "cell_type": "code",
   "execution_count": 13,
   "metadata": {},
   "outputs": [
    {
     "name": "stdout",
     "output_type": "stream",
     "text": [
      "Address 0: n1ZHuJcN62Jx4E9qK4kcv8GZnZvjcFYWJD\n",
      "Address 1: mjtGZey4gk1GKneHEpdHtUr2AjLgsNcq5i\n",
      "Address 2: mgSb596v4dwQbqGEx2R28jbfgiV7hxpgXb\n"
     ]
    }
   ],
   "source": [
    "# You need the cashaddress for this cell.\n",
    "# from cashaddress.convert import to_legacy_address\n",
    "# If you don't simple run 'pip install cashaddress' \n",
    "\n",
    "for i in cashAddresses.keys():\n",
    "    print(f\"Address {i}: {to_legacy_address(cashAddresses[i])}\")"
   ]
  },
  {
   "cell_type": "markdown",
   "metadata": {},
   "source": [
    "### Send 1.1 tBCHs to address 0\n",
    "### Send 0.01 tBCHs to address 1\n",
    "### Send 0.01 tBCHs to address 2"
   ]
  },
  {
   "cell_type": "markdown",
   "metadata": {},
   "source": [
    "# 2. Getting Wormhole cash (WCH)\n",
    "\n",
    "Wormhole cash is the money of wormhole layer. Each time you issue a token you must pay WCH. Also you can use it to by tokens in crowd sales (ICOs). The are mainly two ways to get WCHs: 1) Burning BCHs; and 2) Buying in exchange.\n",
    "\n",
    "Since we are in the testnet we do not need to worry about burning BCHs. As Wormhole whitepaper says, to create WHCs an address should send at least one BCH to the address **bchtest:qqqqqqqqqqqqqqqqqqqqqqqqqqqqqdmwgvnjkt8whc** with some extra information in the op_return. \n",
    "\n",
    "\n",
    "To avoid any issue, Wormhole guys were pretty nice to us and came up with an extra rpc call in their Omini Layer implementation **whc_burnbchgetwhc**.\n",
    "\n",
    "Also, note that when running in the mainnet, you probably should buy WHCs in some exchange instead of burning your BCH. Be Eco Friendly here."
   ]
  },
  {
   "cell_type": "code",
   "execution_count": 12,
   "metadata": {},
   "outputs": [
    {
     "name": "stdout",
     "output_type": "stream",
     "text": [
      "https://www.blocktrail.com/tBCC/tx/9b65a5e1e597420d2af502ce157c7966eb175e8a57da0351cad20ff7e579c170\n"
     ]
    }
   ],
   "source": [
    "r = rpc_call(\"whc_burnbchgetwhc\", [1, cashAddresses[0]])\n",
    "print(r)"
   ]
  },
  {
   "cell_type": "markdown",
   "metadata": {},
   "source": [
    "Now you just have to wait for your transaction to be mined and you are ready to start issuing your tokens. While you wait, let's track your balance."
   ]
  },
  {
   "cell_type": "markdown",
   "metadata": {},
   "source": [
    "# 3. Getting Addresses Balance"
   ]
  },
  {
   "cell_type": "code",
   "execution_count": 8,
   "metadata": {
    "collapsed": true
   },
   "outputs": [],
   "source": [
    "# We need To ask the Wormhole network what are the names of all issued Tokens so we can display in our \"Wallet\"\n",
    "def get_token_names():\n",
    "    Ts = rpc_call(\"whc_listproperties\")\n",
    "    tokens = {}\n",
    "    for t in Ts:\n",
    "        tokens[t[\"propertyid\"]] = t[\"name\"]\n",
    "    return tokens\n",
    "\n",
    "# Get all the tokens owned by a given address\n",
    "def get_token_balance(address):\n",
    "    r = rpc_call(\"whc_getallbalancesforaddress\", [address])\n",
    "    if r is None:\n",
    "        return []\n",
    "    else:\n",
    "        return r"
   ]
  },
  {
   "cell_type": "markdown",
   "metadata": {},
   "source": [
    "#### Monitoring balances\n",
    "\n",
    "The next cell run a parallel process to display the addresses balances in real time."
   ]
  },
  {
   "cell_type": "code",
   "execution_count": 16,
   "metadata": {},
   "outputs": [
    {
     "name": "stdout",
     "output_type": "stream",
     "text": [
      "Last Refresh: 2018-08-22 20:06:41.473458\n",
      "0 : bchtest:qrda8deqt6e0kcrdx2tzvtx0denn0wupvse9t48a8e \n",
      " BCH : 1.20970369\n",
      " --- Tokens ---\n",
      "1 : bchtest:qqh7slg0wkk6kt8sftjpt26x7d5sn3v7kqrk3apk3y \n",
      " BCH : 0.07\n",
      " --- Tokens ---\n",
      "2 : bchtest:qq9zf0cy3k8dpt4x22ydhhwuq8u0hyq9hcx9zyhm03 \n",
      " BCH : 0.07\n",
      " --- Tokens ---\n",
      "\n"
     ]
    }
   ],
   "source": [
    "def loop_balance():\n",
    "    #tokens = get_token_names()\n",
    "    tokens = {}\n",
    "    SLEEP = 10\n",
    "    while True:\n",
    "        line = \"\" \n",
    "        bch_bals = get_bch_balances()\n",
    "        for ix in cashAddresses.keys():\n",
    "            addr = cashAddresses[ix]\n",
    "\n",
    "            token_bal = get_token_balance(addr)\n",
    "            line += f\"{ix} : {addr} \\n\"\n",
    "            \n",
    "            #bch = get_bch_balance(str(ix))\n",
    "            bch = bch_bals[addr]\n",
    "            line += f\" BCH : {bch}\" + \"\\n\"\n",
    "            line += \" --- Tokens ---\\n\"\n",
    "            \n",
    "            for b in token_bal:\n",
    "                try:\n",
    "                    line += f\"{b['propertyid']:>5} {tokens[b['propertyid']]:>7} : {b['balance']}\" + \"\\n\"\n",
    "                except KeyError:\n",
    "                    if b['propertyid'] not in tokens:\n",
    "                        # Update tokens:\n",
    "                        tokens = get_token_names()\n",
    "        clear_output()\n",
    "        print(\"Last Refresh:\",datetime.datetime.now())\n",
    "        print(line, flush=True)\n",
    "        time.sleep(SLEEP)\n",
    "\n",
    "# The try block makes sure there is only one loop_balance running in the backgroud.\n",
    "try:         \n",
    "    if loop_balance_process.is_alive():\n",
    "        loop_balance_process.terminate()\n",
    "except NameError:\n",
    "    pass\n",
    "\n",
    "loop_balance_process = Process(target = loop_balance)\n",
    "loop_balance_process.start()"
   ]
  },
  {
   "cell_type": "markdown",
   "metadata": {},
   "source": [
    "Wait for the WHCs tokens to appear and you are ready to continue to issue your first token."
   ]
  },
  {
   "cell_type": "markdown",
   "metadata": {},
   "source": [
    "# 4. Issuing Tokens"
   ]
  },
  {
   "cell_type": "markdown",
   "metadata": {},
   "source": [
    "## Fixed Supply"
   ]
  },
  {
   "cell_type": "markdown",
   "metadata": {},
   "source": [
    "Let's say you own a Japanese Food Restaurant and want to issue tokens that people can redeem for Temakis.\n",
    "\n",
    "You decide to issue 100,000 Tokens and will exchange every 10 tokens for one Temaki in your restaurant.\n",
    "\n",
    "There will not be fractional tokens (precision is zero), and the ticker for the token is **TMK**.\n",
    "\n",
    "With your idea in mind, you just need to run the next cell and your token will be issued."
   ]
  },
  {
   "cell_type": "code",
   "execution_count": 14,
   "metadata": {},
   "outputs": [
    {
     "name": "stdout",
     "output_type": "stream",
     "text": [
      "https://www.blocktrail.com/tBCC/tx/bc5a78a1d2ae21a6be2e11a41755f4a6f0c922a663f25bf676bba04f01e17cc0\n"
     ]
    }
   ],
   "source": [
    "from_address      = cashAddresses[0]\n",
    "ecosystem         = 1 # Must be 1\n",
    "token_precision   = 0 # Decimal places of the token. Anything between 0 to 8 - [0,8]\n",
    "previousID        = 0 # 0 if the token is issued for the first time\n",
    "category          = \"Food\"\n",
    "subcategory       = \"Japanese\"\n",
    "ticker            = \"TMK\" # GIVE YOUR UNIQUE NAME TO THIS TOKEN ! (next cells will crash if name conflicts)\n",
    "url               = \"https://en.wikipedia.org/wiki/Sushi\"\n",
    "token_description = \"Temaki Token\"\n",
    "total_issued      = 100000 \n",
    "\n",
    "ret = rpc_call(\"whc_sendissuancefixed\", \n",
    "                 [\n",
    "                     from_address,\n",
    "                     int(ecosystem),\n",
    "                     int(token_precision),\n",
    "                     int(previousID),\n",
    "                     category,\n",
    "                     subcategory,\n",
    "                     ticker,\n",
    "                     url,\n",
    "                     token_description,\n",
    "                     str(total_issued) # Must be string\n",
    "                 ],\n",
    "               force_str=False\n",
    "              )\n",
    "print(ret)"
   ]
  },
  {
   "cell_type": "markdown",
   "metadata": {},
   "source": [
    "### Check if your token was issued:\n",
    "\n",
    "After issuing the token, you still have to wait for the TX to be mined. \n",
    "You can verify your token was mines if the ticker appears in the following dictionary:"
   ]
  },
  {
   "cell_type": "code",
   "execution_count": 1,
   "metadata": {},
   "outputs": [],
   "source": [
    "# Reminder: The following function calls `whc_listproperties` in the node\n",
    "get_token_names()"
   ]
  },
  {
   "cell_type": "markdown",
   "metadata": {},
   "source": [
    "### Check Token property in the network:\n",
    "\n",
    "You can check the properties of an issued token, including yours, running the next cell"
   ]
  },
  {
   "cell_type": "code",
   "execution_count": 520,
   "metadata": {},
   "outputs": [
    {
     "data": {
      "text/plain": [
       "{'category': 'Food',\n",
       " 'creationtxid': '1e588f334eb7d2109cb90a336563bcfea242779909aa2dcc8042c967402cddec',\n",
       " 'data': 'Temaki Token',\n",
       " 'fixedissuance': True,\n",
       " 'issuer': 'bchtest:qztl72uj899sh3ztyv9l93pv2uul4nev0u2awg0srr',\n",
       " 'managedissuance': False,\n",
       " 'name': 'TMK',\n",
       " 'precision': 0,\n",
       " 'propertyid': 167,\n",
       " 'subcategory': 'Japanese',\n",
       " 'totaltokens': '100000',\n",
       " 'url': 'https://en.wikipedia.org/wiki/Sushi'}"
      ]
     },
     "execution_count": 520,
     "metadata": {},
     "output_type": "execute_result"
    }
   ],
   "source": [
    "rpc_call(\"whc_getproperty\", [get_token_id(ticker)], force_str=False)"
   ]
  },
  {
   "cell_type": "markdown",
   "metadata": {},
   "source": [
    "**managedissuance** is the flag saying that the token has a fixed amount of tokens. \n",
    "\n",
    "**propertyid** is the unique identifier of your token in the wormhole. "
   ]
  },
  {
   "cell_type": "markdown",
   "metadata": {},
   "source": [
    "## Sending Tokens\n",
    "\n",
    "Before we go to other types of token issuance, let's send some tokens to our other addresses:"
   ]
  },
  {
   "cell_type": "code",
   "execution_count": 529,
   "metadata": {
    "collapsed": true
   },
   "outputs": [],
   "source": [
    "def send_tokens(fromAddress, toAddress, tokenID, amount):\n",
    "    \"\"\"  Sends `amount` tokens with id `tokenID` to address `toAddress`.\n",
    "    Returns txid of transaction (link to follow in blockexplorer).\n",
    "    \"\"\"\n",
    "    r = rpc_call(\"whc_send\", [fromAddress, toAddress, int(tokenID), str(amount)], force_str=False)\n",
    "    return r\n"
   ]
  },
  {
   "cell_type": "code",
   "execution_count": 532,
   "metadata": {},
   "outputs": [
    {
     "data": {
      "text/plain": [
       "'https://www.blocktrail.com/tBCC/tx/90c65d355a9b9e133b56408b549fada013763b8b217fdf23b9dd955f44bd942e'"
      ]
     },
     "execution_count": 532,
     "metadata": {},
     "output_type": "execute_result"
    }
   ],
   "source": [
    "# Send 10 Tokens to cashAddress 1\n",
    "r = send_tokens(cashAddresses[0], cashAddresses[1], get_token_id(ticker), 10)\n",
    "print(r)"
   ]
  },
  {
   "cell_type": "code",
   "execution_count": 530,
   "metadata": {},
   "outputs": [
    {
     "data": {
      "text/plain": [
       "'https://www.blocktrail.com/tBCC/tx/ce1b263ccdf078d9d8e6676a26ef955e36a0becc456df5b7c6bee589741e64d4'"
      ]
     },
     "execution_count": 530,
     "metadata": {},
     "output_type": "execute_result"
    }
   ],
   "source": [
    "# Send 20 Tokens to cashAddress 2\n",
    "r = send_tokens(cashAddresses[0], cashAddresses[2], get_token_id(ticker), 20)\n",
    "print(r)"
   ]
  },
  {
   "cell_type": "code",
   "execution_count": 533,
   "metadata": {},
   "outputs": [
    {
     "data": {
      "text/plain": [
       "'https://www.blocktrail.com/tBCC/tx/c37b97ee24838f70ad5ae835e42dc1ce714e06c2534bb0efff1ddb8bd1d9a933'"
      ]
     },
     "execution_count": 533,
     "metadata": {},
     "output_type": "execute_result"
    }
   ],
   "source": [
    "# Uncomment the next line to send me 1 of your Tokens:\n",
    "#print(send_tokens(cashAddresses[0],\"bchtest:qzmcwgjg0drn3vcehuqdwkvpav484k7f8uugqd6slv\",get_token_id(ticker),1))"
   ]
  },
  {
   "cell_type": "code",
   "execution_count": 600,
   "metadata": {},
   "outputs": [
    {
     "name": "stdout",
     "output_type": "stream",
     "text": [
      "https://www.blocktrail.com/tBCC/tx/bb0ba445f741da69c484a15ec14d7e8a0aab4c970ca0f69b22054fc977bd2fbb\n",
      "https://www.blocktrail.com/tBCC/tx/44706654e04543a798780573d9ad74e0500e5680463712ddf592ba4c09fe90e5\n"
     ]
    }
   ],
   "source": [
    "# Since we are sending tokens, let's send some WHC to address 1 and 2 for later in the Tutorial\n",
    "# Send 10 WHC to cashAddress 1 and 2:\n",
    "r = send_tokens(cashAddresses[0], cashAddresses[1], 1, 10) # WHC token id is 1\n",
    "print(r)\n",
    "r = send_tokens(cashAddresses[0], cashAddresses[1], 1, 10) # WHC token id is 1\n",
    "print(r)"
   ]
  },
  {
   "cell_type": "markdown",
   "metadata": {},
   "source": [
    "## Managed Supply"
   ]
  },
  {
   "cell_type": "markdown",
   "metadata": {},
   "source": [
    "The Temaki Token was a success.\n",
    "But now, you want to issue tokens to all sorts of sushis in your Japanese restaurant. Since you cannot predict all types of sushi you will ever have in your menu, you decide to issue tokens that can have a managed supply. Enter the **Managed Supply** tokens.\n",
    "\n",
    "You decide to call you token **SUSHI** token, and at the time of creation you do not have to decide how many you want. You simply create running the following cell."
   ]
  },
  {
   "cell_type": "code",
   "execution_count": 539,
   "metadata": {},
   "outputs": [
    {
     "name": "stdout",
     "output_type": "stream",
     "text": [
      "https://www.blocktrail.com/tBCC/tx/901d06c9492197c58997dc9185933a784c6db3d93b6d9fe574b0894537e76104\n"
     ]
    }
   ],
   "source": [
    "from_address      = cashAddresses[0]\n",
    "ecosystem         = 1 # Must be 1\n",
    "token_precision   = 0 # Decimal places of the token. Anything between 0 to 8 - [0,8]\n",
    "previousID        = 0 # 0 if the token is new\n",
    "category          = \"Food\"\n",
    "subcategory       = \"Japanese\"\n",
    "ticker            = \"SUSHI\" # GIVE YOUR UNIQUE NAME TO THIS TOKEN ! (next cells will crash if name conflicts)\n",
    "url               = \"https://en.wikipedia.org/wiki/Sushi\"\n",
    "token_description = \"Sushi Token\"\n",
    "\n",
    "\n",
    "ret = rpc_call(\"whc_sendissuancemanaged\", \n",
    "                 [\n",
    "                     from_address,\n",
    "                     int(ecosystem),\n",
    "                     int(token_precision),\n",
    "                     int(previousID),\n",
    "                     category,\n",
    "                     subcategory,\n",
    "                     ticker,\n",
    "                     url,\n",
    "                     token_description\n",
    "                 ],\n",
    "               force_str=False\n",
    "              )\n",
    "print(ret)"
   ]
  },
  {
   "cell_type": "code",
   "execution_count": 2,
   "metadata": {},
   "outputs": [],
   "source": [
    "#### Check if the token was issued\n",
    "# Reminder: The following function calls `whc_listproperties` in the node\n",
    "get_token_names()"
   ]
  },
  {
   "cell_type": "code",
   "execution_count": 549,
   "metadata": {},
   "outputs": [
    {
     "data": {
      "text/plain": [
       "{'category': 'Food',\n",
       " 'creationtxid': '901d06c9492197c58997dc9185933a784c6db3d93b6d9fe574b0894537e76104',\n",
       " 'data': 'Sushi Token',\n",
       " 'fixedissuance': False,\n",
       " 'freezingenabled': False,\n",
       " 'issuer': 'bchtest:qztl72uj899sh3ztyv9l93pv2uul4nev0u2awg0srr',\n",
       " 'managedissuance': True,\n",
       " 'name': 'SUSHI',\n",
       " 'precision': 0,\n",
       " 'propertyid': 168,\n",
       " 'subcategory': 'Japanese',\n",
       " 'totaltokens': '0',\n",
       " 'url': 'https://en.wikipedia.org/wiki/Sushi'}"
      ]
     },
     "execution_count": 549,
     "metadata": {},
     "output_type": "execute_result"
    }
   ],
   "source": [
    "# Check the Token Properties\n",
    "rpc_call(\"whc_getproperty\", [get_token_id(ticker)], force_str=False)"
   ]
  },
  {
   "cell_type": "markdown",
   "metadata": {},
   "source": [
    "### Issuing the Managed Tokens\n",
    "Later on, when you have costumers coming to your restaurant you issue tokens each time they pay using BCH. \n",
    "One thousand SUSHI tokens per client, you are eager to have more payments coming in BCH, and you want to see the client come back."
   ]
  },
  {
   "cell_type": "code",
   "execution_count": 620,
   "metadata": {
    "collapsed": true
   },
   "outputs": [],
   "source": [
    "def issue_tokens(fromAddress, toAddress, tokenID, amount, memo=\"\"):\n",
    "    r = rpc_call(method = \"whc_sendgrant\", \n",
    "                 params = [fromAddress, toAddress, int(tokenID), str(amount), str(memo)], \n",
    "                 force_str=False)\n",
    "    return r"
   ]
  },
  {
   "cell_type": "code",
   "execution_count": 557,
   "metadata": {},
   "outputs": [
    {
     "data": {
      "text/plain": [
       "'https://www.blocktrail.com/tBCC/tx/4cf135e9130cd0f7ac3d7854cb303b7e53bbbf2e5c5845f95510bc1da1df4560'"
      ]
     },
     "execution_count": 557,
     "metadata": {},
     "output_type": "execute_result"
    }
   ],
   "source": [
    "r = issue_tokens(cashAddresses[0], cashAddresses[1], get_token_id(ticker), 1000, \"Sushi AirDrop\")\n",
    "print(r)"
   ]
  },
  {
   "cell_type": "code",
   "execution_count": 558,
   "metadata": {},
   "outputs": [
    {
     "data": {
      "text/plain": [
       "'https://www.blocktrail.com/tBCC/tx/a4cfd2b9da29e19b1e5de320c1335ef2b5845954984c56b5c9c81f039275c07d'"
      ]
     },
     "execution_count": 558,
     "metadata": {},
     "output_type": "execute_result"
    }
   ],
   "source": [
    "r = issue_tokens(cashAddresses[0], cashAddresses[2], get_token_id(ticker), 1000, \"Sushi AirDrop\")\n",
    "print(r)"
   ]
  },
  {
   "cell_type": "code",
   "execution_count": 560,
   "metadata": {
    "collapsed": true
   },
   "outputs": [],
   "source": [
    "# Uncomment the next line to send me 1 of your Tokens:\n",
    "#print(issue_tokens(cashAddresses[0],\"bchtest:qzmcwgjg0drn3vcehuqdwkvpav484k7f8uugqd6slv\",get_token_id(ticker),1))"
   ]
  },
  {
   "cell_type": "markdown",
   "metadata": {},
   "source": [
    "### Changing Issuer - Selling the business.\n",
    "\n",
    "Your business was very sucessful, part because you started accepting BCH in your restaurant. As you wanted to explorer other possibilities you decided to sell the bussines. With it, you need to transfer the issuer of your SUSHI tokens to the new owner.\n",
    "\n",
    "For that, you just have to run the next few cells."
   ]
  },
  {
   "cell_type": "code",
   "execution_count": 563,
   "metadata": {
    "collapsed": true
   },
   "outputs": [],
   "source": [
    "def change_issuer(fromAddress, toAddress, tokenID):\n",
    "    r = rpc_call(method = \"whc_sendchangeissuer\",\n",
    "                 params = [fromAddress, toAddress, int(tokenID)],\n",
    "                 force_str=False)\n",
    "    return r                 "
   ]
  },
  {
   "cell_type": "code",
   "execution_count": 564,
   "metadata": {},
   "outputs": [
    {
     "data": {
      "text/plain": [
       "'https://www.blocktrail.com/tBCC/tx/8f20bc799401aa8e36786685b0e38833e65192cf5122646c33304148629f0be7'"
      ]
     },
     "execution_count": 564,
     "metadata": {},
     "output_type": "execute_result"
    }
   ],
   "source": [
    "r = change_issuer(cashAddresses[0], cashAddresses[1], get_token_id(ticker))\n",
    "print(r)"
   ]
  },
  {
   "cell_type": "code",
   "execution_count": 567,
   "metadata": {},
   "outputs": [
    {
     "data": {
      "text/plain": [
       "{'category': 'Food',\n",
       " 'creationtxid': '901d06c9492197c58997dc9185933a784c6db3d93b6d9fe574b0894537e76104',\n",
       " 'data': 'Sushi Token',\n",
       " 'fixedissuance': False,\n",
       " 'freezingenabled': False,\n",
       " 'issuer': 'bchtest:qr6jk8rfrssp6z5d60w4943e640ktex3vydum7njhx',\n",
       " 'managedissuance': True,\n",
       " 'name': 'SUSHI',\n",
       " 'precision': 0,\n",
       " 'propertyid': 168,\n",
       " 'subcategory': 'Japanese',\n",
       " 'totaltokens': '4001',\n",
       " 'url': 'https://en.wikipedia.org/wiki/Sushi'}"
      ]
     },
     "execution_count": 567,
     "metadata": {},
     "output_type": "execute_result"
    }
   ],
   "source": [
    "# Check the Token Properties\n",
    "rpc_call(\"whc_getproperty\", [get_token_id(ticker)], force_str=False)"
   ]
  },
  {
   "cell_type": "markdown",
   "metadata": {},
   "source": [
    "____\n",
    "\n",
    "The new owner can keep the bussiness of issuing SUSHI tokens without any problem, and you follow your dreams as you plan an ICO to disrupt the Tuna market."
   ]
  },
  {
   "cell_type": "code",
   "execution_count": 568,
   "metadata": {},
   "outputs": [
    {
     "data": {
      "text/plain": [
       "'https://www.blocktrail.com/tBCC/tx/ac7e258eff5943a86f9b2824395dca88a6b1f18b8265ce9a50492b9bc9158e76'"
      ]
     },
     "execution_count": 568,
     "metadata": {},
     "output_type": "execute_result"
    }
   ],
   "source": [
    "r = issue_tokens(cashAddresses[1], cashAddresses[2], get_token_id(ticker), 1000, \"Sushi AirDrop\")\n",
    "print(r)"
   ]
  },
  {
   "cell_type": "markdown",
   "metadata": {},
   "source": [
    "## Crowd Sale (ICO)\n",
    "\n",
    "You became an expert in crypto fishes in Japan. You see the demand for Tuna growing around the world, and to seize the opportunity you decide to run an ICO of **TUNA** tokens.\n",
    "\n",
    "- You decide to issue 1,000,000 tokens.\n",
    "\n",
    "- You will accept WHC as payment. \n",
    "\n",
    "- 1 WHC will buy 20 TUNA tokens\n",
    "\n",
    "- No Decimal tokens.\n",
    "\n",
    "- You will hold the ICO for a month (Starting August 22, ending September 22).\n",
    "\n",
    "- 30% Early Bonus per week prior to the deadline.\n",
    "\n",
    "- The Token will be called **TUNA**.\n",
    "\n",
    "With all that decided, you just have to run the next cell and your ICO will be up and running:"
   ]
  },
  {
   "cell_type": "code",
   "execution_count": 587,
   "metadata": {},
   "outputs": [
    {
     "name": "stdout",
     "output_type": "stream",
     "text": [
      "https://www.blocktrail.com/tBCC/tx/48d8c3bacf8e0b6e332604d35bc73409b959a70ae5d39b4ef6e1d45d661ef66f\n"
     ]
    }
   ],
   "source": [
    "from_address      = cashAddresses[0]\n",
    "ecosystem         = 1 # Must be 1\n",
    "token_precision   = 0 # Decimal places of the token. Anything between 0 to 8 - [0,8]\n",
    "previousID        = 0 # 0 if the token is new\n",
    "category          = \"Food\"\n",
    "subcategory       = \"Japanese\"\n",
    "ticker            = \"TUNA\" # GIVE YOUR UNIQUE NAME TO THIS TOKEN ! (next cells will crash if name conflicts)\n",
    "url               = \"https://en.wikipedia.org/wiki/Sushi\"\n",
    "token_description = \"Maguro(Tuna) Token\"\n",
    "tokenID_desired   = 1 # 1 for WHC \n",
    "token_per_unit    = 20\n",
    "deadline          = to_unixtime(2018, 9, 22, 0, 0)\n",
    "early_bonus       = 30\n",
    "undefine          = 0 # Must be zero\n",
    "total_supply      = 1000000\n",
    "\n",
    "ret = rpc_call(\"whc_sendissuancecrowdsale\", \n",
    "                 [\n",
    "                     from_address,\n",
    "                     int(ecosystem),\n",
    "                     int(token_precision),\n",
    "                     int(previousID),\n",
    "                     category,\n",
    "                     subcategory,\n",
    "                     ticker,\n",
    "                     url,\n",
    "                     token_description,\n",
    "                     int(tokenID_desired),\n",
    "                     str(token_per_unit),\n",
    "                     int(deadline),\n",
    "                     int(early_bonus),\n",
    "                     undefine,\n",
    "                     str(total_supply)\n",
    "                 ],\n",
    "               force_str=False\n",
    "              )\n",
    "print(ret)"
   ]
  },
  {
   "cell_type": "code",
   "execution_count": 3,
   "metadata": {},
   "outputs": [],
   "source": [
    "#### Check if the token was issued\n",
    "# Reminder: The following function calls `whc_listproperties` in the node\n",
    "get_token_names()"
   ]
  },
  {
   "cell_type": "code",
   "execution_count": 597,
   "metadata": {},
   "outputs": [
    {
     "data": {
      "text/plain": [
       "{'active': True,\n",
       " 'addedissuertokens': '0',\n",
       " 'amountraised': '0.00000000',\n",
       " 'deadline': 1537542000,\n",
       " 'earlybonus': 30,\n",
       " 'issuer': 'bchtest:qztl72uj899sh3ztyv9l93pv2uul4nev0u2awg0srr',\n",
       " 'name': 'TUNA',\n",
       " 'participanttransactions': [],\n",
       " 'precision': '0',\n",
       " 'propertyid': 169,\n",
       " 'propertyiddesired': 1,\n",
       " 'starttime': 1534926695,\n",
       " 'tokensissued': '1000000',\n",
       " 'tokensperunit': '20.00000000'}"
      ]
     },
     "execution_count": 597,
     "metadata": {},
     "output_type": "execute_result"
    }
   ],
   "source": [
    "rpc_call(\"whc_getcrowdsale\", \n",
    "        params = [get_token_id(ticker), True],\n",
    "        force_str = False)"
   ]
  },
  {
   "cell_type": "markdown",
   "metadata": {},
   "source": [
    "### Buy tokens in the ICO\n",
    "Now, anyone willing to buy your Tokens can do that directly by sending a transaction to the bitcoin cash network. For that, just run the next few cells:"
   ]
  },
  {
   "cell_type": "code",
   "execution_count": 598,
   "metadata": {
    "collapsed": true
   },
   "outputs": [],
   "source": [
    "def buy_token(buyer_address, seller_address, amount):\n",
    "    r = rpc_call(\"whc_particrowsale\", [buyer_address, seller_address, amount])\n",
    "    return r"
   ]
  },
  {
   "cell_type": "code",
   "execution_count": 601,
   "metadata": {},
   "outputs": [
    {
     "data": {
      "text/plain": [
       "'https://www.blocktrail.com/tBCC/tx/a471ae1e2c8b9e7110b16470983666b3cf07af748fd8030137cf0b428d53e41d'"
      ]
     },
     "execution_count": 601,
     "metadata": {},
     "output_type": "execute_result"
    }
   ],
   "source": [
    "r = buy_token(buyer_address=cashAddresses[1], seller_address=cashAddresses[0], amount=0.5)\n",
    "print(r)"
   ]
  },
  {
   "cell_type": "markdown",
   "metadata": {},
   "source": [
    "You can monitor your ICO through the blockchain itself as the record of each buyer is kept. To recover this information just run the next cell and look for `participanttransactions`."
   ]
  },
  {
   "cell_type": "code",
   "execution_count": 603,
   "metadata": {},
   "outputs": [
    {
     "data": {
      "text/plain": [
       "{'active': True,\n",
       " 'addedissuertokens': '0',\n",
       " 'amountraised': '0.47901202',\n",
       " 'deadline': 1537542000,\n",
       " 'earlybonus': 30,\n",
       " 'issuer': 'bchtest:qztl72uj899sh3ztyv9l93pv2uul4nev0u2awg0srr',\n",
       " 'name': 'TUNA',\n",
       " 'participanttransactions': [{'amountsent': '0.47901202',\n",
       "   'participanttokens': '22',\n",
       "   'txid': 'a471ae1e2c8b9e7110b16470983666b3cf07af748fd8030137cf0b428d53e41d'}],\n",
       " 'precision': '0',\n",
       " 'propertyid': 169,\n",
       " 'propertyiddesired': 1,\n",
       " 'starttime': 1534926695,\n",
       " 'tokensissued': '1000000',\n",
       " 'tokensperunit': '20.00000000'}"
      ]
     },
     "execution_count": 603,
     "metadata": {},
     "output_type": "execute_result"
    }
   ],
   "source": [
    "rpc_call(\"whc_getcrowdsale\", \n",
    "        params = [get_token_id(ticker), True],\n",
    "        force_str = False)"
   ]
  },
  {
   "cell_type": "markdown",
   "metadata": {},
   "source": [
    "As you can see our your first ICO participant sent 0.479 WCH to your address and received 22 TUNA tokens. The reason is due to Early bonus of 30% per week, and there are 4 weeks to the end of the sale. "
   ]
  },
  {
   "cell_type": "code",
   "execution_count": 649,
   "metadata": {},
   "outputs": [
    {
     "name": "stdout",
     "output_type": "stream",
     "text": [
      "Weeks Left: 4.32131118\n",
      "Bonus 2.296393354\n",
      "Tokens 22.00000038\n"
     ]
    }
   ],
   "source": [
    "# How the 22 \n",
    "seconds_in_seven_days = 7 * 24 * 60 * 60\n",
    "\n",
    "buytime = 1534928471 # Given by the blocktime in which the TX was mined\n",
    "deadline = 1537542000 # Given by whc_getcrowdsale rpc call\n",
    "\n",
    "weeks_left = round((deadline - buytime) / seconds_in_seven_days,8)\n",
    "print(\"Weeks Left:\", weeks_left)\n",
    "bonus = 1 + (0.3 * weeks_left ) # 30% times 4.32 (Number of weeks until the end of the sale)\n",
    "print(\"Bonus\", bonus)\n",
    "print(\"Tokens\", round(0.47901202 * 20 * bonus, 8))"
   ]
  },
  {
   "cell_type": "markdown",
   "metadata": {},
   "source": [
    "# 5. What next?\n",
    "\n",
    "Wormhole's whitepaper has a strong and long roadmap, including wallets and smart-contracs. Another aspect the team should be working on the next months is its documentation. For now, the best references to read aboud wormholed documentation is ominicore rpc github webpage:\n",
    "    https://github.com/OmniLayer/omnicore/blob/master/src/omnicore/doc/rpc-api.md\n",
    "\n",
    "Since Wormhole is a fork of omini layer, most of the *omini_method-name* in the docs are ported as whc_method-name. This means that, if you want to know an example of how to call some particular rpc function that I did not explain (For example, what is omini_getsto ?), get yourself a wormholed and run:\n",
    "\n",
    "        wormholed-cli whc_getsto\n",
    "This will prompt an error message explaining how to use this function. \n",
    "\n",
    "Other really good source of reference for Wormhole is https://twitter.com/cgcardona. He put together a three part tutorial on wormhole and some NodeJs libraries to run your own Wormhole project. \n",
    "\n",
    "pt 1 https://developer.bitcoin.com/tutorials/wormhole-1-setup.html\n",
    "\n",
    "pt 2 https://developer.bitcoin.com/tutorials/wormhole-1-setup.html\n",
    "    \n",
    "pt 3 https://developer.bitcoin.com/tutorials/wormhole-3-tokens.html\n",
    "\n",
    "This Jupyter Notebook Tutorial here is basically pt 3 reworked for python. Good stuff, but if you want to learn how to run your own full node, check pt 2 as well in this series of tutorials.\n",
    "\n",
    "Finally, from the same developer, this NodeJs application of a restApi is a good source for reference on Wormhole. \n",
    "Specially the pages for data retrieval and transactions:\n",
    "\n",
    "https://github.com/Bitcoin-com/wormholerest.bitcoin.com/blob/master/routes/dataRetrieval.js\n",
    "\n",
    "https://github.com/Bitcoin-com/wormholerest.bitcoin.com/blob/master/routes/transaction.js"
   ]
  }
 ],
 "metadata": {
  "kernelspec": {
   "display_name": "Python 3",
   "language": "python",
   "name": "python3"
  },
  "language_info": {
   "codemirror_mode": {
    "name": "ipython",
    "version": 3
   },
   "file_extension": ".py",
   "mimetype": "text/x-python",
   "name": "python",
   "nbconvert_exporter": "python",
   "pygments_lexer": "ipython3",
   "version": "3.6.3"
  }
 },
 "nbformat": 4,
 "nbformat_minor": 2
}
