{
 "cells": [
  {
   "cell_type": "code",
   "execution_count": null,
   "metadata": {
    "collapsed": true
   },
   "outputs": [],
   "source": [
    "import requests\n",
    "import base64\n",
    "import json "
   ]
  },
  {
   "cell_type": "markdown",
   "metadata": {},
   "source": [
    "### Get your api key from https://bitdb.network/dashboard"
   ]
  },
  {
   "cell_type": "code",
   "execution_count": 5,
   "metadata": {
    "collapsed": true
   },
   "outputs": [],
   "source": [
    "key = \"API_KEY\"\n",
    "end_point = \"https://bitdb.network/q/\"\n",
    "url = \"ewogICJyZXF1ZXN0IjogewogICAgImZpbmQiOiB7CiAgICAgICJzMSI6IHsKICAgICAgICAiJHJlZ2V4IjogInlvdXJzLm9yZyIsICIkb3B0aW9ucyI6ICJpIgogICAgICB9CiAgICB9CiAgfQp9\""
   ]
  },
  {
   "cell_type": "code",
   "execution_count": 8,
   "metadata": {},
   "outputs": [
    {
     "name": "stdout",
     "output_type": "stream",
     "text": [
      "eyJyZXF1ZXN0IjogeyJmaW5kIjogeyJiMSI6ICJoZWxsbyJ9LCAibGltaXQiOiA1fX0=\n"
     ]
    }
   ],
   "source": [
    "query = {\n",
    "  'request': { 'find': {\"b1\": \"hello\"}, 'limit': 5 }\n",
    "}\n",
    "# Transform the dictionay to a base64 string:\n",
    "_q = base64.b64encode(json.dumps(query).encode(\"utf-8\")).decode()\n",
    "print(_q)"
   ]
  },
  {
   "cell_type": "code",
   "execution_count": 7,
   "metadata": {},
   "outputs": [
    {
     "data": {
      "text/plain": [
       "<Response [200]>"
      ]
     },
     "execution_count": 7,
     "metadata": {},
     "output_type": "execute_result"
    }
   ],
   "source": [
    "# Set the headers a\n",
    "r = requests.get(end_point+_q, headers={\"key\":key})\n",
    "r"
   ]
  },
  {
   "cell_type": "code",
   "execution_count": 91,
   "metadata": {
    "scrolled": true
   },
   "outputs": [
    {
     "data": {
      "text/plain": [
       "{'confirmed': [{'_id': '5b978f65a7bd3f00299519f5',\n",
       "   'b1': 'aGVsbG8=',\n",
       "   'block_hash': '0000000000000000021eb9e73719e0bde70d0fec47351c698bf144329bc4a9cf',\n",
       "   'block_index': 547376,\n",
       "   'block_time': 1536659238,\n",
       "   'index': 0,\n",
       "   'receivers': [{'a': 'qrg4unwl8zp4gle5n2stnegphxhh2pvzqsl5tpzy53',\n",
       "     'index': 1,\n",
       "     'v': 828065}],\n",
       "   's1': 'hello',\n",
       "   'senders': [{'a': 'qrg4unwl8zp4gle5n2stnegphxhh2pvzqsl5tpzy53',\n",
       "     'index': 1,\n",
       "     'sequenceNumber': 4294967295,\n",
       "     'tx': 'd45788b54ed13906a2c7f0a6182ce2d72fbc04e40d860cb7d40898b90085518e'}],\n",
       "   'tx': '104a3f4d416f63403fbf7b091e78fbe0ec2f3c359315dbaecc0e5e14fa390614'},\n",
       "  {'_id': '5b8c25c3a7bd3f0029fbc734',\n",
       "   'b1': 'aGVsbG8=',\n",
       "   'b2': 'd29ybGQ=',\n",
       "   'b3': 'AQEBAf/u',\n",
       "   'block_hash': '000000000000000000186ee5d7f77be05ae2289e23e0c795fb3bf01fb3af9ecf',\n",
       "   'block_index': 539291,\n",
       "   'block_time': 1531775457,\n",
       "   'index': 0,\n",
       "   'receivers': [{'a': 'qp78e7rp0fcrgpy25lsvnju3wgv48kntd5wpkn82mk',\n",
       "     'index': 1,\n",
       "     'v': 209677}],\n",
       "   's1': 'hello',\n",
       "   's2': 'world',\n",
       "   's3': '\\x01\\x01\\x01\\x01��',\n",
       "   'senders': [{'a': 'qzc4lnpfqs4u9tve9p3zlgr2kx7u0rf7g5zlamkdr2',\n",
       "     'index': 1,\n",
       "     'sequenceNumber': 4294967294,\n",
       "     'tx': 'b205c41a322842ee645f538379a26440d890aa6e1bf46b38616404247819b0f0'}],\n",
       "   'tx': '36c8db476cf5f48156d012ee40253de21d8549600f29b9a73ae967fa600eb884'},\n",
       "  {'_id': '5b8c25c3a7bd3f0029fbc735',\n",
       "   'b1': 'aGVsbG8=',\n",
       "   'b2': 'd29ybGQhISEhIQ==',\n",
       "   'b3': 'AQIDBAX///8=',\n",
       "   'block_hash': '000000000000000000186ee5d7f77be05ae2289e23e0c795fb3bf01fb3af9ecf',\n",
       "   'block_index': 539291,\n",
       "   'block_time': 1531775457,\n",
       "   'index': 0,\n",
       "   'receivers': [{'a': 'qqwac0ppx6tg0nemh9cs5lc8llk4wpj6kymumgp30w',\n",
       "     'index': 1,\n",
       "     'v': 209449}],\n",
       "   's1': 'hello',\n",
       "   's2': 'world!!!!!',\n",
       "   's3': '\\x01\\x02\\x03\\x04\\x05���',\n",
       "   'senders': [{'a': 'qp78e7rp0fcrgpy25lsvnju3wgv48kntd5wpkn82mk',\n",
       "     'index': 1,\n",
       "     'sequenceNumber': 4294967294,\n",
       "     'tx': '36c8db476cf5f48156d012ee40253de21d8549600f29b9a73ae967fa600eb884'}],\n",
       "   'tx': '9e9a7ce923f6576676f6773d7b7e4ba0e4549a169c7301fd372fd2c3d02ad596'},\n",
       "  {'_id': '5b8c25c0a7bd3f0029fbc167',\n",
       "   'b1': 'aGVsbG8=',\n",
       "   'b2': 'd29ybGQhISEhIQ==',\n",
       "   'block_hash': '000000000000000001093edc80a84dbddfb9e60932bb57a431962037e1f68543',\n",
       "   'block_index': 539289,\n",
       "   'block_time': 1531774254,\n",
       "   'index': 0,\n",
       "   'receivers': [{'a': 'qzc4lnpfqs4u9tve9p3zlgr2kx7u0rf7g5zlamkdr2',\n",
       "     'index': 1,\n",
       "     'v': 209898}],\n",
       "   's1': 'hello',\n",
       "   's2': 'world!!!!!',\n",
       "   'senders': [{'a': 'qqc7sr0j8rsmdc8vq0epwmpnhwfwmekjggpn8jyjku',\n",
       "     'index': 1,\n",
       "     'sequenceNumber': 4294967294,\n",
       "     'tx': '8e5fd45bb80d46a3141a59c9abbb462e458fb3c95651b7480a71e8bb87092d04'}],\n",
       "   'tx': 'b205c41a322842ee645f538379a26440d890aa6e1bf46b38616404247819b0f0'},\n",
       "  {'_id': '5b8c25bca7bd3f0029fbb994',\n",
       "   'b1': 'aGVsbG8=',\n",
       "   'b2': 'd29ybGQ=',\n",
       "   'block_hash': '000000000000000000da362610e4fe4f199c32f1dcf97714c49a5d31edccfcb3',\n",
       "   'block_index': 539286,\n",
       "   'block_time': 1531772286,\n",
       "   'index': 0,\n",
       "   'receivers': [{'a': 'qqenfyjfv662279c4a6sarzc0dgkx9da5saq2t6cs2',\n",
       "     'index': 1,\n",
       "     'v': 211036}],\n",
       "   's1': 'hello',\n",
       "   's2': 'world',\n",
       "   'senders': [{'a': 'qqenfyjfv662279c4a6sarzc0dgkx9da5saq2t6cs2',\n",
       "     'index': 1,\n",
       "     'sequenceNumber': 4294967294,\n",
       "     'tx': 'f2f320cd376118c4553cb03c40bb601b2003ded791d6584b26903bc30249624d'}],\n",
       "   'tx': '2121520c5a5e780ebb2068d121b93d7ad4efd876972a4139da67a7f94adeff39'}],\n",
       " 'status': 'success',\n",
       " 'unconfirmed': []}"
      ]
     },
     "execution_count": 91,
     "metadata": {},
     "output_type": "execute_result"
    }
   ],
   "source": [
    "r.json()"
   ]
  },
  {
   "cell_type": "code",
   "execution_count": null,
   "metadata": {
    "collapsed": true
   },
   "outputs": [],
   "source": []
  },
  {
   "cell_type": "code",
   "execution_count": null,
   "metadata": {
    "collapsed": true
   },
   "outputs": [],
   "source": []
  },
  {
   "cell_type": "code",
   "execution_count": null,
   "metadata": {
    "collapsed": true
   },
   "outputs": [],
   "source": []
  }
 ],
 "metadata": {
  "kernelspec": {
   "display_name": "Python 3",
   "language": "python",
   "name": "python3"
  },
  "language_info": {
   "codemirror_mode": {
    "name": "ipython",
    "version": 3
   },
   "file_extension": ".py",
   "mimetype": "text/x-python",
   "name": "python",
   "nbconvert_exporter": "python",
   "pygments_lexer": "ipython3",
   "version": "3.6.3"
  }
 },
 "nbformat": 4,
 "nbformat_minor": 2
}
